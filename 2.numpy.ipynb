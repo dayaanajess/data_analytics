{
 "cells": [
  {
   "cell_type": "markdown",
   "metadata": {},
   "source": [
    "## Библиотека NUMPY"
   ]
  },
  {
   "cell_type": "code",
   "execution_count": 1,
   "metadata": {},
   "outputs": [],
   "source": [
    "import numpy as np\n"
   ]
  },
  {
   "cell_type": "markdown",
   "metadata": {},
   "source": [
    "- генерация массивов со случайными значениями"
   ]
  },
  {
   "cell_type": "code",
   "execution_count": 14,
   "metadata": {},
   "outputs": [
    {
     "data": {
      "text/plain": [
       "array([-4, -9, -3,  3, -4, -4, -9, -1,  4,  7, -6, -4,  0,  5, -4, -1, -4,\n",
       "       -7, -4, -4,  1, -9, -7, -2, -2,  5,  1,  0,  2,  0])"
      ]
     },
     "execution_count": 14,
     "metadata": {},
     "output_type": "execute_result"
    }
   ],
   "source": [
    "# 1-мерный массив (array) (вектор строка) горизонтальное измерение, случайные значения целых чисел\n",
    "# arr_0 = np.random.randint(9) (рандомные числа от 0 до 9)\n",
    "# arr_0 = np.random.randint(-9,8) (рандомные числа от -9 до 8)\n",
    "# arr_0 = np.random.randint(-9,8,6) (напишет 6 чисел внутри скобки рандомные от -9 до 8)\n",
    "arr_0"
   ]
  },
  {
   "cell_type": "code",
   "execution_count": 20,
   "metadata": {},
   "outputs": [
    {
     "data": {
      "text/plain": [
       "array([[15],\n",
       "       [15],\n",
       "       [16],\n",
       "       [13]])"
      ]
     },
     "execution_count": 20,
     "metadata": {},
     "output_type": "execute_result"
    }
   ],
   "source": [
    "# 2-мерный массив (array) (вектор строка) горизонтальное измерение, случайные значения целых чисел (мин, макс) (колич срок, потом столбцов)\n",
    "np.random.randint(10, 30, (4,1))"
   ]
  },
  {
   "cell_type": "code",
   "execution_count": 21,
   "metadata": {},
   "outputs": [
    {
     "data": {
      "text/plain": [
       "array([[17, 16,  7],\n",
       "       [ 8,  2,  2],\n",
       "       [14, 18,  6],\n",
       "       [ 6, 15,  4]])"
      ]
     },
     "execution_count": 21,
     "metadata": {},
     "output_type": "execute_result"
    }
   ],
   "source": [
    "# 2-мерный массив (матрица) (строка, столбец)\n",
    "np.random.randint(-3, 20, (4,3))"
   ]
  },
  {
   "cell_type": "code",
   "execution_count": 22,
   "metadata": {},
   "outputs": [
    {
     "data": {
      "text/plain": [
       "array([[[ 4,  0],\n",
       "        [ 3,  0],\n",
       "        [ 9, 19]],\n",
       "\n",
       "       [[10, 12],\n",
       "        [13, 18],\n",
       "        [ 2, 18]],\n",
       "\n",
       "       [[ 4, 13],\n",
       "        [16,  9],\n",
       "        [-2, 12]],\n",
       "\n",
       "       [[11,  9],\n",
       "        [13,  9],\n",
       "        [-1, -3]]])"
      ]
     },
     "execution_count": 22,
     "metadata": {},
     "output_type": "execute_result"
    }
   ],
   "source": [
    "# 3-мерный массив (тензор 3 ранга) (матрица, строка, столбец)\n",
    "np.random.randint(-3, 20, (4,3,2))"
   ]
  },
  {
   "cell_type": "code",
   "execution_count": 23,
   "metadata": {},
   "outputs": [
    {
     "data": {
      "text/plain": [
       "array([[0.16298644, 0.91097646, 0.46462058, 0.75689186, 0.33784805,\n",
       "        0.90353161],\n",
       "       [0.35123514, 0.67900886, 0.40147188, 0.95204632, 0.1392116 ,\n",
       "        0.64318266],\n",
       "       [0.37318648, 0.63438697, 0.31417002, 0.22256444, 0.64983266,\n",
       "        0.91100315]])"
      ]
     },
     "execution_count": 23,
     "metadata": {},
     "output_type": "execute_result"
    }
   ],
   "source": [
    "# 2-мерный массив (матрица) случайных значений с плавающей точкой\n",
    "# в диапазоне от 0 до 1\n",
    "np.random.random((3,6))"
   ]
  },
  {
   "cell_type": "code",
   "execution_count": 26,
   "metadata": {},
   "outputs": [
    {
     "data": {
      "text/plain": [
       "array([[ 0.30569815,  0.12612645,  0.84426262, -0.49162394, -0.0677579 ],\n",
       "       [ 0.99908397,  0.79554948,  0.34356249, -0.17824073, -1.68580927],\n",
       "       [-1.0027793 , -1.56804604, -0.46284162,  1.04505051,  0.41487995],\n",
       "       [-2.23908972, -0.45532284, -0.02850212, -1.44623688,  0.69238143],\n",
       "       [ 1.72700251, -0.50744731,  1.71318838, -1.47643493,  0.63391971]])"
      ]
     },
     "execution_count": 26,
     "metadata": {},
     "output_type": "execute_result"
    }
   ],
   "source": [
    "# 2-мерный массив (матрица) случайных значений с плавающей точкой\n",
    "# из нормального (гауссова) распределения\n",
    "np.random.normal(size=(5,5))"
   ]
  },
  {
   "cell_type": "markdown",
   "metadata": {},
   "source": [
    "- атрибуты (свойства)"
   ]
  },
  {
   "cell_type": "code",
   "execution_count": 30,
   "metadata": {},
   "outputs": [
    {
     "data": {
      "text/plain": [
       "(30,)"
      ]
     },
     "execution_count": 30,
     "metadata": {},
     "output_type": "execute_result"
    }
   ],
   "source": [
    "# форма массива\n",
    "arr_0.shape"
   ]
  },
  {
   "cell_type": "code",
   "execution_count": 31,
   "metadata": {},
   "outputs": [
    {
     "data": {
      "text/plain": [
       "array([[ 0.05508712,  0.04353995, -0.10775843, -0.43793484, -0.08027066],\n",
       "       [ 0.55144409,  0.62008468, -1.4470736 , -1.48717188,  1.25537679],\n",
       "       [-0.06009638,  1.15594916, -2.53822764,  0.87151432, -1.74285077],\n",
       "       [ 0.90878296, -0.94260611, -0.72705668, -0.13350731, -0.72702084],\n",
       "       [-0.39818943,  0.23989153, -0.35432424, -0.01302682, -0.82645263]])"
      ]
     },
     "execution_count": 31,
     "metadata": {},
     "output_type": "execute_result"
    }
   ],
   "source": [
    "arr_0 = np.random.normal(size=(5,5))\n",
    "arr_0"
   ]
  },
  {
   "cell_type": "code",
   "execution_count": 35,
   "metadata": {},
   "outputs": [
    {
     "data": {
      "text/plain": [
       "dtype('float64')"
      ]
     },
     "execution_count": 35,
     "metadata": {},
     "output_type": "execute_result"
    }
   ],
   "source": [
    "# тип данных\n",
    "arr_0.dtype"
   ]
  },
  {
   "cell_type": "code",
   "execution_count": 36,
   "metadata": {},
   "outputs": [
    {
     "ename": "NameError",
     "evalue": "name 'arr_1' is not defined",
     "output_type": "error",
     "traceback": [
      "\u001b[1;31m---------------------------------------------------------------------------\u001b[0m",
      "\u001b[1;31mNameError\u001b[0m                                 Traceback (most recent call last)",
      "Cell \u001b[1;32mIn[36], line 1\u001b[0m\n\u001b[1;32m----> 1\u001b[0m \u001b[43marr_1\u001b[49m\u001b[38;5;241m.\u001b[39mdtype\n",
      "\u001b[1;31mNameError\u001b[0m: name 'arr_1' is not defined"
     ]
    }
   ],
   "source": [
    "arr_1.dtype"
   ]
  },
  {
   "cell_type": "code",
   "execution_count": 37,
   "metadata": {},
   "outputs": [
    {
     "data": {
      "text/plain": [
       "200"
      ]
     },
     "execution_count": 37,
     "metadata": {},
     "output_type": "execute_result"
    }
   ],
   "source": [
    "# объем занимаемой памяти (в байтах)\n",
    "arr_0.nbytes"
   ]
  },
  {
   "cell_type": "code",
   "execution_count": 38,
   "metadata": {},
   "outputs": [
    {
     "data": {
      "text/plain": [
       "25"
      ]
     },
     "execution_count": 38,
     "metadata": {},
     "output_type": "execute_result"
    }
   ],
   "source": [
    "# количество всех элементов массива (200/8 байт)\n",
    "arr_0.size"
   ]
  },
  {
   "cell_type": "markdown",
   "metadata": {},
   "source": [
    "- метод"
   ]
  },
  {
   "cell_type": "code",
   "execution_count": 41,
   "metadata": {},
   "outputs": [
    {
     "data": {
      "text/plain": [
       "array([[ 0, -7, -8, -6],\n",
       "       [-7, -8, -7, -3],\n",
       "       [ 1, -3, -1, -7]])"
      ]
     },
     "execution_count": 41,
     "metadata": {},
     "output_type": "execute_result"
    }
   ],
   "source": [
    "arr_2 = np.random.randint(-8,2,(3,4))\n",
    "arr_2"
   ]
  },
  {
   "cell_type": "code",
   "execution_count": 42,
   "metadata": {},
   "outputs": [
    {
     "data": {
      "text/plain": [
       "dtype('int32')"
      ]
     },
     "execution_count": 42,
     "metadata": {},
     "output_type": "execute_result"
    }
   ],
   "source": [
    "arr_2.dtype"
   ]
  },
  {
   "cell_type": "code",
   "execution_count": 43,
   "metadata": {},
   "outputs": [
    {
     "data": {
      "text/plain": [
       "array([[ 0, -7, -8, -6],\n",
       "       [-7, -8, -7, -3],\n",
       "       [ 1, -3, -1, -7]], dtype=int64)"
      ]
     },
     "execution_count": 43,
     "metadata": {},
     "output_type": "execute_result"
    }
   ],
   "source": [
    "# конвертация типа данных\n",
    "arr_2.astype(\"int64\")"
   ]
  },
  {
   "cell_type": "code",
   "execution_count": 44,
   "metadata": {},
   "outputs": [
    {
     "data": {
      "text/plain": [
       "array([[ 0, -7,  1],\n",
       "       [-7, -8, -3],\n",
       "       [-8, -7, -1],\n",
       "       [-6, -3, -7]])"
      ]
     },
     "execution_count": 44,
     "metadata": {},
     "output_type": "execute_result"
    }
   ],
   "source": [
    "# транспонирование (поворот массива по диагонали)\n",
    "arr_2.transpose()"
   ]
  },
  {
   "cell_type": "code",
   "execution_count": 45,
   "metadata": {},
   "outputs": [
    {
     "data": {
      "text/plain": [
       "-8"
      ]
     },
     "execution_count": 45,
     "metadata": {},
     "output_type": "execute_result"
    }
   ],
   "source": [
    "# мин из массива\n",
    "arr_2.min()"
   ]
  },
  {
   "cell_type": "code",
   "execution_count": 46,
   "metadata": {},
   "outputs": [
    {
     "data": {
      "text/plain": [
       "1"
      ]
     },
     "execution_count": 46,
     "metadata": {},
     "output_type": "execute_result"
    }
   ],
   "source": [
    "# макс из массива\n",
    "arr_2.max()"
   ]
  },
  {
   "cell_type": "code",
   "execution_count": 47,
   "metadata": {},
   "outputs": [
    {
     "data": {
      "text/plain": [
       "-4.666666666666667"
      ]
     },
     "execution_count": 47,
     "metadata": {},
     "output_type": "execute_result"
    }
   ],
   "source": [
    "# сред из массива\n",
    "arr_2.mean()"
   ]
  },
  {
   "cell_type": "markdown",
   "metadata": {},
   "source": [
    "- Индексация"
   ]
  },
  {
   "cell_type": "code",
   "execution_count": 51,
   "metadata": {},
   "outputs": [
    {
     "data": {
      "text/plain": [
       "array([[-3, -1, -4, -4, -4,  0],\n",
       "       [-7,  1,  0, -2, -2,  1],\n",
       "       [-4, -7,  1,  1,  1, -2],\n",
       "       [-1, -3, -5, -1,  0, -6],\n",
       "       [-7, -3, -7,  0, -8, -1],\n",
       "       [-7,  0, -1, -3, -5,  1]])"
      ]
     },
     "execution_count": 51,
     "metadata": {},
     "output_type": "execute_result"
    }
   ],
   "source": [
    "arr_3 = np.random.randint(-8,2,(6,6))\n",
    "arr_3"
   ]
  },
  {
   "cell_type": "code",
   "execution_count": 59,
   "metadata": {},
   "outputs": [
    {
     "data": {
      "text/plain": [
       "array([-4,  0,  1, -5, -7, -1])"
      ]
     },
     "execution_count": 59,
     "metadata": {},
     "output_type": "execute_result"
    }
   ],
   "source": [
    "# прямая индексация (сверху вниз, слева направо)\n",
    "arr_3[:,2]"
   ]
  },
  {
   "cell_type": "code",
   "execution_count": 60,
   "metadata": {},
   "outputs": [
    {
     "data": {
      "text/plain": [
       "array([-7, -3, -7,  0, -8, -1])"
      ]
     },
     "execution_count": 60,
     "metadata": {},
     "output_type": "execute_result"
    }
   ],
   "source": [
    "# обратная индексация\n",
    "arr_3[-2]"
   ]
  },
  {
   "cell_type": "code",
   "execution_count": 61,
   "metadata": {},
   "outputs": [
    {
     "data": {
      "text/plain": [
       "-3"
      ]
     },
     "execution_count": 61,
     "metadata": {},
     "output_type": "execute_result"
    }
   ],
   "source": [
    "# точечная индексация\n",
    "arr_3[5,3]"
   ]
  },
  {
   "cell_type": "code",
   "execution_count": 62,
   "metadata": {},
   "outputs": [
    {
     "data": {
      "text/plain": [
       "array([[ -3,  -1,  -4,  -4,  -4,   0],\n",
       "       [ -7,   1,   0,  -2,  -2,   1],\n",
       "       [ -4,  -7,   1,   1,   1,  -2],\n",
       "       [ -1,  -3,  -5,  -1,   0,  -6],\n",
       "       [ -7,  -3,  -7,   0,  -8,  -1],\n",
       "       [ -7,   0,  -1, 100,  -5,   1]])"
      ]
     },
     "execution_count": 62,
     "metadata": {},
     "output_type": "execute_result"
    }
   ],
   "source": [
    "# запись значения\n",
    "arr_3[5,3] = 100\n",
    "arr_3"
   ]
  },
  {
   "cell_type": "markdown",
   "metadata": {},
   "source": [
    "- срезы"
   ]
  },
  {
   "cell_type": "code",
   "execution_count": 64,
   "metadata": {},
   "outputs": [
    {
     "data": {
      "text/plain": [
       "array([[-7,  1,  0, -2, -2,  1],\n",
       "       [-4, -7,  1,  1,  1, -2]])"
      ]
     },
     "execution_count": 64,
     "metadata": {},
     "output_type": "execute_result"
    }
   ],
   "source": [
    "# срез строк\n",
    "arr_3[1:3]"
   ]
  },
  {
   "cell_type": "code",
   "execution_count": 65,
   "metadata": {},
   "outputs": [
    {
     "data": {
      "text/plain": [
       "array([[ -4,  -4,   0],\n",
       "       [ -2,  -2,   1],\n",
       "       [  1,   1,  -2],\n",
       "       [ -1,   0,  -6],\n",
       "       [  0,  -8,  -1],\n",
       "       [100,  -5,   1]])"
      ]
     },
     "execution_count": 65,
     "metadata": {},
     "output_type": "execute_result"
    }
   ],
   "source": [
    "# срез столбцов\n",
    "arr_3[:,3:]"
   ]
  },
  {
   "cell_type": "code",
   "execution_count": 66,
   "metadata": {},
   "outputs": [
    {
     "data": {
      "text/plain": [
       "array([[-4, -4,  0],\n",
       "       [-2, -2,  1]])"
      ]
     },
     "execution_count": 66,
     "metadata": {},
     "output_type": "execute_result"
    }
   ],
   "source": [
    "# срез строк и столбцов\n",
    "arr_3[:2,3:]"
   ]
  },
  {
   "cell_type": "code",
   "execution_count": null,
   "metadata": {},
   "outputs": [],
   "source": []
  }
 ],
 "metadata": {
  "kernelspec": {
   "display_name": "Python 3",
   "language": "python",
   "name": "python3"
  },
  "language_info": {
   "codemirror_mode": {
    "name": "ipython",
    "version": 3
   },
   "file_extension": ".py",
   "mimetype": "text/x-python",
   "name": "python",
   "nbconvert_exporter": "python",
   "pygments_lexer": "ipython3",
   "version": "3.12.2"
  }
 },
 "nbformat": 4,
 "nbformat_minor": 2
}
