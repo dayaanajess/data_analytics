{
 "cells": [
  {
   "cell_type": "markdown",
   "metadata": {},
   "source": [
    "## Pandas - библиотека для анализа данных\n"
   ]
  },
  {
   "cell_type": "code",
   "execution_count": 1,
   "metadata": {},
   "outputs": [
    {
     "name": "stdout",
     "output_type": "stream",
     "text": [
      "Collecting pandas\n",
      "  Downloading pandas-2.2.1-cp312-cp312-win_amd64.whl.metadata (19 kB)\n",
      "Requirement already satisfied: numpy<2,>=1.26.0 in c:\\users\\user\\appdata\\local\\programs\\python\\python312\\lib\\site-packages (from pandas) (1.26.4)\n",
      "Requirement already satisfied: python-dateutil>=2.8.2 in c:\\users\\user\\appdata\\local\\programs\\python\\python312\\lib\\site-packages (from pandas) (2.9.0.post0)\n",
      "Collecting pytz>=2020.1 (from pandas)\n",
      "  Downloading pytz-2024.1-py2.py3-none-any.whl.metadata (22 kB)\n",
      "Collecting tzdata>=2022.7 (from pandas)\n",
      "  Downloading tzdata-2024.1-py2.py3-none-any.whl.metadata (1.4 kB)\n",
      "Requirement already satisfied: six>=1.5 in c:\\users\\user\\appdata\\local\\programs\\python\\python312\\lib\\site-packages (from python-dateutil>=2.8.2->pandas) (1.16.0)\n",
      "Downloading pandas-2.2.1-cp312-cp312-win_amd64.whl (11.5 MB)\n",
      "   ---------------------------------------- 0.0/11.5 MB ? eta -:--:--\n",
      "   ---------------------------------------- 0.0/11.5 MB ? eta -:--:--\n",
      "   ---------------------------------------- 0.0/11.5 MB 660.6 kB/s eta 0:00:18\n",
      "   ---------------------------------------- 0.0/11.5 MB 660.6 kB/s eta 0:00:18\n",
      "   ---------------------------------------- 0.0/11.5 MB 660.6 kB/s eta 0:00:18\n",
      "   ---------------------------------------- 0.0/11.5 MB 179.6 kB/s eta 0:01:04\n",
      "   ---------------------------------------- 0.1/11.5 MB 262.6 kB/s eta 0:00:44\n",
      "   ---------------------------------------- 0.1/11.5 MB 386.4 kB/s eta 0:00:30\n",
      "   ---------------------------------------- 0.1/11.5 MB 380.5 kB/s eta 0:00:30\n",
      "   ---------------------------------------- 0.1/11.5 MB 380.5 kB/s eta 0:00:30\n",
      "    --------------------------------------- 0.2/11.5 MB 403.5 kB/s eta 0:00:29\n",
      "    --------------------------------------- 0.2/11.5 MB 474.7 kB/s eta 0:00:24\n",
      "    --------------------------------------- 0.3/11.5 MB 491.5 kB/s eta 0:00:23\n",
      "    --------------------------------------- 0.3/11.5 MB 491.5 kB/s eta 0:00:23\n",
      "    --------------------------------------- 0.3/11.5 MB 449.0 kB/s eta 0:00:25\n",
      "   - -------------------------------------- 0.3/11.5 MB 496.0 kB/s eta 0:00:23\n",
      "   - -------------------------------------- 0.4/11.5 MB 518.9 kB/s eta 0:00:22\n",
      "   - -------------------------------------- 0.4/11.5 MB 527.7 kB/s eta 0:00:22\n",
      "   - -------------------------------------- 0.4/11.5 MB 527.7 kB/s eta 0:00:22\n",
      "   - -------------------------------------- 0.4/11.5 MB 519.4 kB/s eta 0:00:22\n",
      "   - -------------------------------------- 0.5/11.5 MB 561.7 kB/s eta 0:00:20\n",
      "   -- ------------------------------------- 0.6/11.5 MB 667.1 kB/s eta 0:00:17\n",
      "   -- ------------------------------------- 0.6/11.5 MB 689.3 kB/s eta 0:00:16\n",
      "   -- ------------------------------------- 0.7/11.5 MB 675.9 kB/s eta 0:00:16\n",
      "   -- ------------------------------------- 0.8/11.5 MB 781.0 kB/s eta 0:00:14\n",
      "   --- ------------------------------------ 1.0/11.5 MB 904.9 kB/s eta 0:00:12\n",
      "   ---- ----------------------------------- 1.2/11.5 MB 1.1 MB/s eta 0:00:10\n",
      "   ---- ----------------------------------- 1.2/11.5 MB 1.0 MB/s eta 0:00:10\n",
      "   ---- ----------------------------------- 1.4/11.5 MB 1.1 MB/s eta 0:00:09\n",
      "   ------ --------------------------------- 1.8/11.5 MB 1.4 MB/s eta 0:00:08\n",
      "   ------- -------------------------------- 2.2/11.5 MB 1.6 MB/s eta 0:00:06\n",
      "   -------- ------------------------------- 2.4/11.5 MB 1.7 MB/s eta 0:00:06\n",
      "   --------- ------------------------------ 2.8/11.5 MB 1.9 MB/s eta 0:00:05\n",
      "   ----------- ---------------------------- 3.4/11.5 MB 2.2 MB/s eta 0:00:04\n",
      "   ------------- -------------------------- 4.0/11.5 MB 2.6 MB/s eta 0:00:03\n",
      "   ---------------- ----------------------- 4.6/11.5 MB 2.9 MB/s eta 0:00:03\n",
      "   ----------------- ---------------------- 4.9/11.5 MB 3.0 MB/s eta 0:00:03\n",
      "   ------------------- -------------------- 5.5/11.5 MB 3.3 MB/s eta 0:00:02\n",
      "   --------------------- ------------------ 6.2/11.5 MB 3.6 MB/s eta 0:00:02\n",
      "   ----------------------- ---------------- 6.6/11.5 MB 3.7 MB/s eta 0:00:02\n",
      "   ------------------------- -------------- 7.2/11.5 MB 3.9 MB/s eta 0:00:02\n",
      "   ------------------------- -------------- 7.4/11.5 MB 4.0 MB/s eta 0:00:02\n",
      "   -------------------------- ------------- 7.5/11.5 MB 4.0 MB/s eta 0:00:02\n",
      "   -------------------------- ------------- 7.5/11.5 MB 4.0 MB/s eta 0:00:02\n",
      "   -------------------------- ------------- 7.5/11.5 MB 4.0 MB/s eta 0:00:02\n",
      "   -------------------------- ------------- 7.5/11.5 MB 4.0 MB/s eta 0:00:02\n",
      "   -------------------------- ------------- 7.5/11.5 MB 4.0 MB/s eta 0:00:02\n",
      "   -------------------------- ------------- 7.5/11.5 MB 4.0 MB/s eta 0:00:02\n",
      "   -------------------------- ------------- 7.5/11.5 MB 4.0 MB/s eta 0:00:02\n",
      "   -------------------------- ------------- 7.5/11.5 MB 4.0 MB/s eta 0:00:02\n",
      "   -------------------------- ------------- 7.5/11.5 MB 4.0 MB/s eta 0:00:02\n",
      "   -------------------------- ------------- 7.5/11.5 MB 4.0 MB/s eta 0:00:02\n",
      "   -------------------------- ------------- 7.5/11.5 MB 4.0 MB/s eta 0:00:02\n",
      "   ------------------------------------- -- 10.8/11.5 MB 6.7 MB/s eta 0:00:01\n",
      "   ---------------------------------------  11.2/11.5 MB 7.4 MB/s eta 0:00:01\n",
      "   ---------------------------------------- 11.5/11.5 MB 8.0 MB/s eta 0:00:00\n",
      "Downloading pytz-2024.1-py2.py3-none-any.whl (505 kB)\n",
      "   ---------------------------------------- 0.0/505.5 kB ? eta -:--:--\n",
      "   --------------------------------------- 505.5/505.5 kB 10.5 MB/s eta 0:00:00\n",
      "Downloading tzdata-2024.1-py2.py3-none-any.whl (345 kB)\n",
      "   ---------------------------------------- 0.0/345.4 kB ? eta -:--:--\n",
      "   --------------------------------------- 345.4/345.4 kB 10.8 MB/s eta 0:00:00\n",
      "Installing collected packages: pytz, tzdata, pandas\n",
      "Successfully installed pandas-2.2.1 pytz-2024.1 tzdata-2024.1\n",
      "Note: you may need to restart the kernel to use updated packages.\n"
     ]
    }
   ],
   "source": [
    "%pip install pandas"
   ]
  },
  {
   "cell_type": "code",
   "execution_count": 2,
   "metadata": {},
   "outputs": [],
   "source": [
    "import pandas as pd"
   ]
  },
  {
   "cell_type": "markdown",
   "metadata": {},
   "source": [
    "- объект класса Series"
   ]
  },
  {
   "cell_type": "code",
   "execution_count": 3,
   "metadata": {},
   "outputs": [
    {
     "data": {
      "text/plain": [
       "0     4\n",
       "1    95\n",
       "2    22\n",
       "3    36\n",
       "dtype: int64"
      ]
     },
     "execution_count": 3,
     "metadata": {},
     "output_type": "execute_result"
    }
   ],
   "source": [
    "# Series создает 1-мерный массив данных\n",
    "#  создание на базе списка\n",
    "s_1 = pd.Series([4,95,22,36])\n",
    "s_1"
   ]
  },
  {
   "cell_type": "code",
   "execution_count": 7,
   "metadata": {},
   "outputs": [
    {
     "data": {
      "text/plain": [
       "a     100\n",
       "5       8\n",
       "65     14\n",
       "dtype: int64"
      ]
     },
     "execution_count": 7,
     "metadata": {},
     "output_type": "execute_result"
    }
   ],
   "source": [
    "# создание на базе словаря\n",
    "d_1 = {'a':100, 5:8, 65:14}\n",
    "s_2 = pd.Series(d_1)\n",
    "s_2"
   ]
  },
  {
   "cell_type": "code",
   "execution_count": 8,
   "metadata": {},
   "outputs": [
    {
     "data": {
      "text/plain": [
       "4"
      ]
     },
     "execution_count": 8,
     "metadata": {},
     "output_type": "execute_result"
    }
   ],
   "source": [
    "# явные индексы\n",
    "s_1[0]"
   ]
  },
  {
   "cell_type": "code",
   "execution_count": 11,
   "metadata": {},
   "outputs": [
    {
     "data": {
      "text/plain": [
       "8"
      ]
     },
     "execution_count": 11,
     "metadata": {},
     "output_type": "execute_result"
    }
   ],
   "source": [
    "s_2[5]"
   ]
  },
  {
   "cell_type": "code",
   "execution_count": 10,
   "metadata": {},
   "outputs": [
    {
     "data": {
      "text/plain": [
       "100"
      ]
     },
     "execution_count": 10,
     "metadata": {},
     "output_type": "execute_result"
    }
   ],
   "source": [
    "s_2['a']"
   ]
  },
  {
   "cell_type": "code",
   "execution_count": 12,
   "metadata": {},
   "outputs": [
    {
     "data": {
      "text/plain": [
       "4"
      ]
     },
     "execution_count": 12,
     "metadata": {},
     "output_type": "execute_result"
    }
   ],
   "source": [
    "# не явные индексы\n",
    "# атрибут индексатор для не явных индексов\n",
    "s_1.iloc[0]"
   ]
  },
  {
   "cell_type": "code",
   "execution_count": 14,
   "metadata": {},
   "outputs": [
    {
     "data": {
      "text/plain": [
       "100"
      ]
     },
     "execution_count": 14,
     "metadata": {},
     "output_type": "execute_result"
    }
   ],
   "source": [
    "s_2.iloc[0]"
   ]
  },
  {
   "cell_type": "code",
   "execution_count": 15,
   "metadata": {},
   "outputs": [
    {
     "data": {
      "text/plain": [
       "(3,)"
      ]
     },
     "execution_count": 15,
     "metadata": {},
     "output_type": "execute_result"
    }
   ],
   "source": [
    "s_2.shape"
   ]
  },
  {
   "cell_type": "code",
   "execution_count": 16,
   "metadata": {},
   "outputs": [
    {
     "data": {
      "text/plain": [
       "array([100,   8,  14], dtype=int64)"
      ]
     },
     "execution_count": 16,
     "metadata": {},
     "output_type": "execute_result"
    }
   ],
   "source": [
    "s_2.values"
   ]
  },
  {
   "cell_type": "code",
   "execution_count": 23,
   "metadata": {},
   "outputs": [
    {
     "data": {
      "text/plain": [
       "Yakutsk      341658\n",
       "Neryungri     52415\n",
       "ffffff        41654\n",
       "oolko.lk      52827\n",
       "fnhkiul       74278\n",
       "Viliuysk      10531\n",
       "dtype: int64"
      ]
     },
     "execution_count": 23,
     "metadata": {},
     "output_type": "execute_result"
    }
   ],
   "source": [
    "# данные по населению городов Якутии (pop - популяция, dictinory - библиотека)\n",
    "pop_d = {\n",
    "    \"Yakutsk\": 341658,\n",
    "    \"Neryungri\": 52415,\n",
    "    \"ffffff\": 41654,\n",
    "    \"oolko.lk\": 52827,\n",
    "    \"fnhkiul\": 74278,\n",
    "    \"Viliuysk\": 10531\n",
    "}\n",
    "pop_s = pd.Series(pop_d)\n",
    "pop_s"
   ]
  },
  {
   "cell_type": "code",
   "execution_count": 19,
   "metadata": {},
   "outputs": [
    {
     "data": {
      "text/plain": [
       "52415"
      ]
     },
     "execution_count": 19,
     "metadata": {},
     "output_type": "execute_result"
    }
   ],
   "source": [
    "pop_s[\"Neryungri\"]"
   ]
  },
  {
   "cell_type": "code",
   "execution_count": 24,
   "metadata": {},
   "outputs": [
    {
     "data": {
      "text/plain": [
       "Neryungri    52415\n",
       "ffffff       41654\n",
       "oolko.lk     52827\n",
       "fnhkiul      74278\n",
       "Viliuysk     10531\n",
       "dtype: int64"
      ]
     },
     "execution_count": 24,
     "metadata": {},
     "output_type": "execute_result"
    }
   ],
   "source": [
    "pop_s[\"Neryungri\":\"Viliuysk\"]"
   ]
  },
  {
   "cell_type": "markdown",
   "metadata": {},
   "source": [
    "- Объекты класса DataFrame"
   ]
  },
  {
   "cell_type": "code",
   "execution_count": 34,
   "metadata": {},
   "outputs": [
    {
     "data": {
      "text/plain": [
       "oolko.lk     44444\n",
       "Neryungri    22222\n",
       "Yakutsk      11111\n",
       "ffffff       33333\n",
       "fnhkiul      55555\n",
       "Viliuysk     66666\n",
       "dtype: int64"
      ]
     },
     "execution_count": 34,
     "metadata": {},
     "output_type": "execute_result"
    }
   ],
   "source": [
    "area_d = {\n",
    "    \"oolko.lk\": 44444,\n",
    "    \"Neryungri\": 22222,\n",
    "    \"Yakutsk\": 11111,\n",
    "    \"ffffff\": 33333,\n",
    "    \"fnhkiul\": 55555,\n",
    "    \"Viliuysk\": 66666\n",
    "}\n",
    "area_s = pd.Series(area_d)\n",
    "area_s"
   ]
  },
  {
   "cell_type": "code",
   "execution_count": 35,
   "metadata": {},
   "outputs": [
    {
     "data": {
      "text/html": [
       "<div>\n",
       "<style scoped>\n",
       "    .dataframe tbody tr th:only-of-type {\n",
       "        vertical-align: middle;\n",
       "    }\n",
       "\n",
       "    .dataframe tbody tr th {\n",
       "        vertical-align: top;\n",
       "    }\n",
       "\n",
       "    .dataframe thead th {\n",
       "        text-align: right;\n",
       "    }\n",
       "</style>\n",
       "<table border=\"1\" class=\"dataframe\">\n",
       "  <thead>\n",
       "    <tr style=\"text-align: right;\">\n",
       "      <th></th>\n",
       "      <th>population</th>\n",
       "      <th>area</th>\n",
       "    </tr>\n",
       "  </thead>\n",
       "  <tbody>\n",
       "    <tr>\n",
       "      <th>Neryungri</th>\n",
       "      <td>52415</td>\n",
       "      <td>22222</td>\n",
       "    </tr>\n",
       "    <tr>\n",
       "      <th>Viliuysk</th>\n",
       "      <td>10531</td>\n",
       "      <td>66666</td>\n",
       "    </tr>\n",
       "    <tr>\n",
       "      <th>Yakutsk</th>\n",
       "      <td>341658</td>\n",
       "      <td>11111</td>\n",
       "    </tr>\n",
       "    <tr>\n",
       "      <th>ffffff</th>\n",
       "      <td>41654</td>\n",
       "      <td>33333</td>\n",
       "    </tr>\n",
       "    <tr>\n",
       "      <th>fnhkiul</th>\n",
       "      <td>74278</td>\n",
       "      <td>55555</td>\n",
       "    </tr>\n",
       "    <tr>\n",
       "      <th>oolko.lk</th>\n",
       "      <td>52827</td>\n",
       "      <td>44444</td>\n",
       "    </tr>\n",
       "  </tbody>\n",
       "</table>\n",
       "</div>"
      ],
      "text/plain": [
       "           population   area\n",
       "Neryungri       52415  22222\n",
       "Viliuysk        10531  66666\n",
       "Yakutsk        341658  11111\n",
       "ffffff          41654  33333\n",
       "fnhkiul         74278  55555\n",
       "oolko.lk        52827  44444"
      ]
     },
     "execution_count": 35,
     "metadata": {},
     "output_type": "execute_result"
    }
   ],
   "source": [
    "ykt_df = pd.DataFrame({\"population\": pop_s, \"area\": area_s})\n",
    "ykt_df"
   ]
  },
  {
   "cell_type": "code",
   "execution_count": 36,
   "metadata": {},
   "outputs": [
    {
     "data": {
      "text/plain": [
       "Neryungri    22222\n",
       "Viliuysk     66666\n",
       "Yakutsk      11111\n",
       "ffffff       33333\n",
       "fnhkiul      55555\n",
       "oolko.lk     44444\n",
       "Name: area, dtype: int64"
      ]
     },
     "execution_count": 36,
     "metadata": {},
     "output_type": "execute_result"
    }
   ],
   "source": [
    "# данные из столбца\n",
    "ykt_df[\"area\"]"
   ]
  },
  {
   "cell_type": "code",
   "execution_count": 37,
   "metadata": {},
   "outputs": [
    {
     "data": {
      "text/plain": [
       "population    41654\n",
       "area          33333\n",
       "Name: ffffff, dtype: int64"
      ]
     },
     "execution_count": 37,
     "metadata": {},
     "output_type": "execute_result"
    }
   ],
   "source": [
    "# данные из строки, среза по столбцам\n",
    "ykt_df.loc[\"ffffff\", :]"
   ]
  },
  {
   "cell_type": "code",
   "execution_count": 38,
   "metadata": {},
   "outputs": [
    {
     "data": {
      "text/plain": [
       "41654"
      ]
     },
     "execution_count": 38,
     "metadata": {},
     "output_type": "execute_result"
    }
   ],
   "source": [
    "# данные из строки, среза по столбцам выборочный\n",
    "ykt_df.loc[\"ffffff\",\"population\"]"
   ]
  },
  {
   "cell_type": "code",
   "execution_count": 39,
   "metadata": {},
   "outputs": [
    {
     "data": {
      "text/html": [
       "<div>\n",
       "<style scoped>\n",
       "    .dataframe tbody tr th:only-of-type {\n",
       "        vertical-align: middle;\n",
       "    }\n",
       "\n",
       "    .dataframe tbody tr th {\n",
       "        vertical-align: top;\n",
       "    }\n",
       "\n",
       "    .dataframe thead th {\n",
       "        text-align: right;\n",
       "    }\n",
       "</style>\n",
       "<table border=\"1\" class=\"dataframe\">\n",
       "  <thead>\n",
       "    <tr style=\"text-align: right;\">\n",
       "      <th></th>\n",
       "      <th>population</th>\n",
       "      <th>area</th>\n",
       "      <th>direction</th>\n",
       "    </tr>\n",
       "  </thead>\n",
       "  <tbody>\n",
       "    <tr>\n",
       "      <th>Neryungri</th>\n",
       "      <td>52415</td>\n",
       "      <td>22222</td>\n",
       "      <td>ggg</td>\n",
       "    </tr>\n",
       "    <tr>\n",
       "      <th>Viliuysk</th>\n",
       "      <td>10531</td>\n",
       "      <td>66666</td>\n",
       "      <td>aaa</td>\n",
       "    </tr>\n",
       "    <tr>\n",
       "      <th>Yakutsk</th>\n",
       "      <td>341658</td>\n",
       "      <td>11111</td>\n",
       "      <td>hhh</td>\n",
       "    </tr>\n",
       "    <tr>\n",
       "      <th>ffffff</th>\n",
       "      <td>41654</td>\n",
       "      <td>33333</td>\n",
       "      <td>vvv</td>\n",
       "    </tr>\n",
       "    <tr>\n",
       "      <th>fnhkiul</th>\n",
       "      <td>74278</td>\n",
       "      <td>55555</td>\n",
       "      <td>sss</td>\n",
       "    </tr>\n",
       "    <tr>\n",
       "      <th>oolko.lk</th>\n",
       "      <td>52827</td>\n",
       "      <td>44444</td>\n",
       "      <td>jjj</td>\n",
       "    </tr>\n",
       "  </tbody>\n",
       "</table>\n",
       "</div>"
      ],
      "text/plain": [
       "           population   area direction\n",
       "Neryungri       52415  22222       ggg\n",
       "Viliuysk        10531  66666       aaa\n",
       "Yakutsk        341658  11111       hhh\n",
       "ffffff          41654  33333       vvv\n",
       "fnhkiul         74278  55555       sss\n",
       "oolko.lk        52827  44444       jjj"
      ]
     },
     "execution_count": 39,
     "metadata": {},
     "output_type": "execute_result"
    }
   ],
   "source": [
    "direct_d = {\n",
    "    \"oolko.lk\": 'jjj',\n",
    "    \"Neryungri\": 'ggg',\n",
    "    \"Yakutsk\": 'hhh',\n",
    "    \"ffffff\": 'vvv',\n",
    "    \"fnhkiul\": 'sss',\n",
    "    \"Viliuysk\": 'aaa'\n",
    "}\n",
    "ykt_df[\"direction\"] = direct_d\n",
    "ykt_df"
   ]
  },
  {
   "cell_type": "code",
   "execution_count": 42,
   "metadata": {},
   "outputs": [
    {
     "data": {
      "text/html": [
       "<div>\n",
       "<style scoped>\n",
       "    .dataframe tbody tr th:only-of-type {\n",
       "        vertical-align: middle;\n",
       "    }\n",
       "\n",
       "    .dataframe tbody tr th {\n",
       "        vertical-align: top;\n",
       "    }\n",
       "\n",
       "    .dataframe thead th {\n",
       "        text-align: right;\n",
       "    }\n",
       "</style>\n",
       "<table border=\"1\" class=\"dataframe\">\n",
       "  <thead>\n",
       "    <tr style=\"text-align: right;\">\n",
       "      <th></th>\n",
       "      <th>population</th>\n",
       "      <th>direction</th>\n",
       "    </tr>\n",
       "  </thead>\n",
       "  <tbody>\n",
       "    <tr>\n",
       "      <th>ffffff</th>\n",
       "      <td>41654</td>\n",
       "      <td>vvv</td>\n",
       "    </tr>\n",
       "    <tr>\n",
       "      <th>fnhkiul</th>\n",
       "      <td>74278</td>\n",
       "      <td>sss</td>\n",
       "    </tr>\n",
       "    <tr>\n",
       "      <th>oolko.lk</th>\n",
       "      <td>52827</td>\n",
       "      <td>jjj</td>\n",
       "    </tr>\n",
       "  </tbody>\n",
       "</table>\n",
       "</div>"
      ],
      "text/plain": [
       "          population direction\n",
       "ffffff         41654       vvv\n",
       "fnhkiul        74278       sss\n",
       "oolko.lk       52827       jjj"
      ]
     },
     "execution_count": 42,
     "metadata": {},
     "output_type": "execute_result"
    }
   ],
   "source": [
    "# срез по строкам и прихотливая индексация по столбцам\n",
    "ykt_df.loc[\"ffffff\":, [\"population\", \"direction\"]]"
   ]
  },
  {
   "cell_type": "code",
   "execution_count": 43,
   "metadata": {},
   "outputs": [
    {
     "data": {
      "text/plain": [
       "Neryungri     True\n",
       "Viliuysk     False\n",
       "Yakutsk       True\n",
       "ffffff       False\n",
       "fnhkiul       True\n",
       "oolko.lk      True\n",
       "Name: population, dtype: bool"
      ]
     },
     "execution_count": 43,
     "metadata": {},
     "output_type": "execute_result"
    }
   ],
   "source": [
    "# маскирование\n",
    "mask = ykt_df[\"population\"] > 50000\n",
    "mask"
   ]
  },
  {
   "cell_type": "code",
   "execution_count": 44,
   "metadata": {},
   "outputs": [
    {
     "data": {
      "text/html": [
       "<div>\n",
       "<style scoped>\n",
       "    .dataframe tbody tr th:only-of-type {\n",
       "        vertical-align: middle;\n",
       "    }\n",
       "\n",
       "    .dataframe tbody tr th {\n",
       "        vertical-align: top;\n",
       "    }\n",
       "\n",
       "    .dataframe thead th {\n",
       "        text-align: right;\n",
       "    }\n",
       "</style>\n",
       "<table border=\"1\" class=\"dataframe\">\n",
       "  <thead>\n",
       "    <tr style=\"text-align: right;\">\n",
       "      <th></th>\n",
       "      <th>population</th>\n",
       "      <th>area</th>\n",
       "      <th>direction</th>\n",
       "    </tr>\n",
       "  </thead>\n",
       "  <tbody>\n",
       "    <tr>\n",
       "      <th>Neryungri</th>\n",
       "      <td>52415</td>\n",
       "      <td>22222</td>\n",
       "      <td>ggg</td>\n",
       "    </tr>\n",
       "    <tr>\n",
       "      <th>Yakutsk</th>\n",
       "      <td>341658</td>\n",
       "      <td>11111</td>\n",
       "      <td>hhh</td>\n",
       "    </tr>\n",
       "    <tr>\n",
       "      <th>fnhkiul</th>\n",
       "      <td>74278</td>\n",
       "      <td>55555</td>\n",
       "      <td>sss</td>\n",
       "    </tr>\n",
       "    <tr>\n",
       "      <th>oolko.lk</th>\n",
       "      <td>52827</td>\n",
       "      <td>44444</td>\n",
       "      <td>jjj</td>\n",
       "    </tr>\n",
       "  </tbody>\n",
       "</table>\n",
       "</div>"
      ],
      "text/plain": [
       "           population   area direction\n",
       "Neryungri       52415  22222       ggg\n",
       "Yakutsk        341658  11111       hhh\n",
       "fnhkiul         74278  55555       sss\n",
       "oolko.lk        52827  44444       jjj"
      ]
     },
     "execution_count": 44,
     "metadata": {},
     "output_type": "execute_result"
    }
   ],
   "source": [
    "# маскирование по строкам и срез по столбцам\n",
    "ykt_df.loc[mask, :]"
   ]
  },
  {
   "cell_type": "code",
   "execution_count": null,
   "metadata": {},
   "outputs": [],
   "source": []
  }
 ],
 "metadata": {
  "kernelspec": {
   "display_name": "Python 3",
   "language": "python",
   "name": "python3"
  },
  "language_info": {
   "codemirror_mode": {
    "name": "ipython",
    "version": 3
   },
   "file_extension": ".py",
   "mimetype": "text/x-python",
   "name": "python",
   "nbconvert_exporter": "python",
   "pygments_lexer": "ipython3",
   "version": "3.12.2"
  }
 },
 "nbformat": 4,
 "nbformat_minor": 2
}
